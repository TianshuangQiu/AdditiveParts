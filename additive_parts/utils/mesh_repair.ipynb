{
 "cells": [
  {
   "cell_type": "code",
   "execution_count": 1,
   "metadata": {},
   "outputs": [],
   "source": [
    "import trimesh\n",
    "from tqdm import tqdm\n",
    "import numpy as np\n",
    "import json\n",
    "import pdb"
   ]
  },
  {
   "cell_type": "code",
   "execution_count": 2,
   "metadata": {},
   "outputs": [],
   "source": [
    "csv_dir = \"/home/akita/cs182/stl.json\"\n",
    "with open(csv_dir, 'r') as r:\n",
    "    mesh_dict = json.load(r)\n"
   ]
  },
  {
   "cell_type": "code",
   "execution_count": 3,
   "metadata": {},
   "outputs": [
    {
     "name": "stderr",
     "output_type": "stream",
     "text": [
      " 56%|█████▋    | 31163/55266 [04:54<03:47, 105.81it/s] \n"
     ]
    }
   ],
   "source": [
    "below_five_counter = 0\n",
    "selected = []\n",
    "for mesh in tqdm(mesh_dict):\n",
    "    if len(selected) > 5000:\n",
    "        break\n",
    "    m = trimesh.load(mesh)\n",
    "    if m.is_watertight:\n",
    "        label = mesh_dict[mesh]\n",
    "        if float(label) < 5:\n",
    "            below_five_counter += 1\n",
    "            if below_five_counter > 2500:\n",
    "                continue\n",
    "        selected.append(mesh)"
   ]
  },
  {
   "cell_type": "code",
   "execution_count": 8,
   "metadata": {},
   "outputs": [
    {
     "name": "stderr",
     "output_type": "stream",
     "text": [
      "100%|██████████| 5001/5001 [01:23<00:00, 59.98it/s] \n"
     ]
    }
   ],
   "source": [
    "sanitized_dict = {}\n",
    "for mesh in tqdm(selected):\n",
    "    m = trimesh.load(mesh)\n",
    "    tsfm_matrix = np.eye(4)\n",
    "    tsfm_matrix[:3, 3] = -m.center_mass\n",
    "    m = m.apply_transform(tsfm_matrix)\n",
    "    trimesh.exchange.export.export_mesh(\n",
    "        m, mesh.replace(\"rotated_files\", \"repaired_files\")\n",
    "    )\n",
    "    sanitized_dict[\"repaired_files/\" + mesh.split('/')[-1]] = mesh_dict[mesh]"
   ]
  },
  {
   "cell_type": "code",
   "execution_count": 9,
   "metadata": {},
   "outputs": [],
   "source": [
    "with open(\"sanitized_dict.json\", 'w') as w:\n",
    "    json.dump(sanitized_dict, w)"
   ]
  },
  {
   "cell_type": "code",
   "execution_count": null,
   "metadata": {},
   "outputs": [],
   "source": []
  }
 ],
 "metadata": {
  "kernelspec": {
   "display_name": "cs182",
   "language": "python",
   "name": "python3"
  },
  "language_info": {
   "codemirror_mode": {
    "name": "ipython",
    "version": 3
   },
   "file_extension": ".py",
   "mimetype": "text/x-python",
   "name": "python",
   "nbconvert_exporter": "python",
   "pygments_lexer": "ipython3",
   "version": "3.7.16"
  },
  "orig_nbformat": 4,
  "vscode": {
   "interpreter": {
    "hash": "b696ae4a14c33a14f542860031552b2eeb930b72081623f460281debd09dff1e"
   }
  }
 },
 "nbformat": 4,
 "nbformat_minor": 2
}
