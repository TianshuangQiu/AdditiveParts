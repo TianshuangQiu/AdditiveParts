{
 "cells": [
  {
   "cell_type": "code",
   "execution_count": 1,
   "metadata": {},
   "outputs": [
    {
     "name": "stderr",
     "output_type": "stream",
     "text": [
      "/home/akita/.conda/envs/cs182/lib/python3.7/site-packages/tqdm/auto.py:21: TqdmWarning: IProgress not found. Please update jupyter and ipywidgets. See https://ipywidgets.readthedocs.io/en/stable/user_install.html\n",
      "  from .autonotebook import tqdm as notebook_tqdm\n"
     ]
    }
   ],
   "source": [
    "import torch\n",
    "import wandb\n",
    "import os\n",
    "from torch import random\n",
    "from torch.utils.data.dataloader import DataLoader, Dataset\n",
    "from torch.utils.data import random_split\n",
    "import numpy as np\n",
    "from tqdm import tqdm\n",
    "from additive_parts.models.cloud import PointCloudProcessor\n",
    "import json\n",
    "import argparse\n",
    "import math\n",
    "from datetime import datetime\n",
    "import pdb\n"
   ]
  },
  {
   "cell_type": "code",
   "execution_count": 2,
   "metadata": {},
   "outputs": [
    {
     "name": "stdout",
     "output_type": "stream",
     "text": [
      "5001\n"
     ]
    }
   ],
   "source": [
    "path = \"/home/akita/cs182/rawnorm.json\"\n",
    "\n",
    "with open(path, 'r') as r:\n",
    "    test = json.load(r)\n",
    "\n",
    "print(len(test))"
   ]
  },
  {
   "cell_type": "code",
   "execution_count": 6,
   "metadata": {},
   "outputs": [
    {
     "name": "stdout",
     "output_type": "stream",
     "text": [
      "torch.Size([512, 7])\n"
     ]
    },
    {
     "data": {
      "text/plain": [
       "tensor([[-3.5349e+00,  3.1562e+00, -4.9863e+00,  ...,  3.7461e-01,\n",
       "          0.0000e+00,  1.5901e+02],\n",
       "        [-4.8623e+00, -1.2911e-01,  4.9863e+00,  ...,  3.7461e-01,\n",
       "          0.0000e+00,  1.5901e+02],\n",
       "        [-4.8809e+00, -4.7924e+00, -1.3206e+00,  ..., -9.2718e-01,\n",
       "         -0.0000e+00,  6.9182e+01],\n",
       "        ...,\n",
       "        [ 3.9013e+00, -8.3406e+00, -1.3206e+00,  ..., -9.2718e-01,\n",
       "          1.3684e-06,  3.4847e-01],\n",
       "        [ 3.9013e+00, -8.3406e+00,  1.3205e+00,  ..., -9.2718e-01,\n",
       "         -1.3684e-06,  3.4847e-01],\n",
       "        [-3.8949e+00, -4.4098e+00, -1.0434e+01,  ..., -4.1339e-01,\n",
       "         -4.8198e-01,  3.4631e-01]], dtype=torch.float64)"
      ]
     },
     "execution_count": 6,
     "metadata": {},
     "output_type": "execute_result"
    }
   ],
   "source": [
    "path = \"/home/akita/cs182/rawnorm/2038a4fd-6ff8-4255-bb98-5959fe946c80.stl00-1.stl\"\n",
    "test = torch.load(path)\n",
    "print(test[0].shape)\n",
    "test[0]"
   ]
  },
  {
   "cell_type": "code",
   "execution_count": null,
   "metadata": {},
   "outputs": [],
   "source": []
  }
 ],
 "metadata": {
  "kernelspec": {
   "display_name": "cs182",
   "language": "python",
   "name": "python3"
  },
  "language_info": {
   "codemirror_mode": {
    "name": "ipython",
    "version": 3
   },
   "file_extension": ".py",
   "mimetype": "text/x-python",
   "name": "python",
   "nbconvert_exporter": "python",
   "pygments_lexer": "ipython3",
   "version": "3.7.16"
  },
  "orig_nbformat": 4,
  "vscode": {
   "interpreter": {
    "hash": "b696ae4a14c33a14f542860031552b2eeb930b72081623f460281debd09dff1e"
   }
  }
 },
 "nbformat": 4,
 "nbformat_minor": 2
}
