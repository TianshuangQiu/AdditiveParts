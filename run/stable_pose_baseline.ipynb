{
 "cells": [
  {
   "attachments": {},
   "cell_type": "markdown",
   "id": "74e4d691-e71e-4b9b-a22c-d008ea195a26",
   "metadata": {},
   "source": [
    "## Running and Evaluating Stable Pose Baseline Model"
   ]
  },
  {
   "cell_type": "code",
   "execution_count": 5,
   "id": "b628430a-b771-47d3-a19f-69e6e2eb6dd6",
   "metadata": {},
   "outputs": [
    {
     "name": "stderr",
     "output_type": "stream",
     "text": [
      "100%|██████████| 10/10 [00:00<00:00, 12.17it/s]\n"
     ]
    },
    {
     "data": {
      "text/plain": [
       "0"
      ]
     },
     "execution_count": 5,
     "metadata": {},
     "output_type": "execute_result"
    }
   ],
   "source": [
    "import subprocess\n",
    "import os\n",
    "\n",
    "#BASE_DIR = '/Users/yifansong/Desktop/cs182/proj'  # Replace with the base directory as illustrated in README\n",
    "BASE_DIR = None  # Replace with the base directory as illustrated in README\n",
    "\n",
    "# To generate the json file with predicted scores: \n",
    "subprocess.call([\"python\", os.path.join(BASE_DIR, \"AdditiveParts/additive_parts/baseline/run_baseline.py\"), BASE_DIR,\n",
    "                 os.path.join(BASE_DIR, \"sanitized_dict.json\"), os.path.join(BASE_DIR, \"sanitized_result.json\")])\n",
    "\n"
   ]
  },
  {
   "cell_type": "code",
   "execution_count": 138,
   "id": "fdf1961b",
   "metadata": {},
   "outputs": [],
   "source": [
    "import pandas as pd\n",
    "import numpy as np\n",
    "import json\n",
    "import numpy as np\n",
    "import seaborn as sns\n",
    "from matplotlib import pyplot as plt"
   ]
  },
  {
   "cell_type": "code",
   "execution_count": 82,
   "id": "3b10a91d",
   "metadata": {},
   "outputs": [],
   "source": [
    "#with open(\"/global/scratch/users/ethantqiu/Data/stl.json\", \"r\") as infile:\n",
    "inpath = os.path.join(BASE_DIR, \"sanitized_dict.json\")\n",
    "with open(inpath, \"r\") as infile:\n",
    "    a_dict = json.load(infile)"
   ]
  },
  {
   "cell_type": "code",
   "execution_count": 83,
   "id": "0a6ca666",
   "metadata": {},
   "outputs": [],
   "source": [
    "#with open(\"/global/scratch/users/yifansong/stl_stablepose.json\", \"r\") as out:\n",
    "with open(os.path.join(BASE_DIR, \"sanitized_result.json\"), \"r\") as out:\n",
    "    e_dict = json.load(out)"
   ]
  },
  {
   "cell_type": "code",
   "execution_count": 84,
   "id": "c1143a34",
   "metadata": {},
   "outputs": [],
   "source": [
    "actual = pd.DataFrame.from_dict(a_dict,orient='index')\n",
    "estimate = pd.DataFrame.from_dict(e_dict,orient='index')"
   ]
  },
  {
   "cell_type": "code",
   "execution_count": 85,
   "id": "aab232fa",
   "metadata": {},
   "outputs": [],
   "source": [
    "tgt = pd.merge(left = actual, right = estimate, left_index = True, right_index = True)"
   ]
  },
  {
   "cell_type": "code",
   "execution_count": 86,
   "id": "51ee116b",
   "metadata": {},
   "outputs": [
    {
     "data": {
      "text/html": [
       "<div>\n",
       "<style scoped>\n",
       "    .dataframe tbody tr th:only-of-type {\n",
       "        vertical-align: middle;\n",
       "    }\n",
       "\n",
       "    .dataframe tbody tr th {\n",
       "        vertical-align: top;\n",
       "    }\n",
       "\n",
       "    .dataframe thead th {\n",
       "        text-align: right;\n",
       "    }\n",
       "</style>\n",
       "<table border=\"1\" class=\"dataframe\">\n",
       "  <thead>\n",
       "    <tr style=\"text-align: right;\">\n",
       "      <th></th>\n",
       "      <th>0_x</th>\n",
       "      <th>0_y</th>\n",
       "    </tr>\n",
       "  </thead>\n",
       "  <tbody>\n",
       "    <tr>\n",
       "      <th>repaired_files/90103fe5-e00e-4276-94be-db2d406a28d3.stl</th>\n",
       "      <td>1.6205615459957947</td>\n",
       "      <td>2.529934</td>\n",
       "    </tr>\n",
       "    <tr>\n",
       "      <th>repaired_files/90103fe5-e00e-4276-94be-db2d406a28d3.stl-100.stl</th>\n",
       "      <td>1.1769949324558115</td>\n",
       "      <td>2.010105</td>\n",
       "    </tr>\n",
       "    <tr>\n",
       "      <th>repaired_files/90103fe5-e00e-4276-94be-db2d406a28d3.stl0-10.stl</th>\n",
       "      <td>2.307261558057408</td>\n",
       "      <td>2.366312</td>\n",
       "    </tr>\n",
       "    <tr>\n",
       "      <th>repaired_files/90103fe5-e00e-4276-94be-db2d406a28d3.stl00-1.stl</th>\n",
       "      <td>1.709764946080299</td>\n",
       "      <td>2.366312</td>\n",
       "    </tr>\n",
       "    <tr>\n",
       "      <th>repaired_files/90103fe5-e00e-4276-94be-db2d406a28d3.stl010.stl</th>\n",
       "      <td>2.307261523514363</td>\n",
       "      <td>2.529934</td>\n",
       "    </tr>\n",
       "  </tbody>\n",
       "</table>\n",
       "</div>"
      ],
      "text/plain": [
       "                                                                   0_x  \\\n",
       "repaired_files/90103fe5-e00e-4276-94be-db2d406a...  1.6205615459957947   \n",
       "repaired_files/90103fe5-e00e-4276-94be-db2d406a...  1.1769949324558115   \n",
       "repaired_files/90103fe5-e00e-4276-94be-db2d406a...   2.307261558057408   \n",
       "repaired_files/90103fe5-e00e-4276-94be-db2d406a...   1.709764946080299   \n",
       "repaired_files/90103fe5-e00e-4276-94be-db2d406a...   2.307261523514363   \n",
       "\n",
       "                                                         0_y  \n",
       "repaired_files/90103fe5-e00e-4276-94be-db2d406a...  2.529934  \n",
       "repaired_files/90103fe5-e00e-4276-94be-db2d406a...  2.010105  \n",
       "repaired_files/90103fe5-e00e-4276-94be-db2d406a...  2.366312  \n",
       "repaired_files/90103fe5-e00e-4276-94be-db2d406a...  2.366312  \n",
       "repaired_files/90103fe5-e00e-4276-94be-db2d406a...  2.529934  "
      ]
     },
     "execution_count": 86,
     "metadata": {},
     "output_type": "execute_result"
    }
   ],
   "source": [
    "tgt.head()"
   ]
  },
  {
   "cell_type": "code",
   "execution_count": 87,
   "id": "8d4e5936-c7a0-4410-9ced-8211eb623a3b",
   "metadata": {},
   "outputs": [],
   "source": [
    "tgt['0_x'] = (tgt['0_x']).astype(float)\n",
    "tgt['0_y'] = (tgt['0_y']).astype(float)"
   ]
  },
  {
   "attachments": {},
   "cell_type": "markdown",
   "id": "fdb4cb95-2f26-42de-95a8-64634ee5d767",
   "metadata": {},
   "source": [
    "### Classification Accuracy"
   ]
  },
  {
   "cell_type": "code",
   "execution_count": 60,
   "id": "b5f6fa42-1a48-4756-a2b2-deef169d148a",
   "metadata": {},
   "outputs": [
    {
     "data": {
      "text/html": [
       "<div>\n",
       "<style scoped>\n",
       "    .dataframe tbody tr th:only-of-type {\n",
       "        vertical-align: middle;\n",
       "    }\n",
       "\n",
       "    .dataframe tbody tr th {\n",
       "        vertical-align: top;\n",
       "    }\n",
       "\n",
       "    .dataframe thead th {\n",
       "        text-align: right;\n",
       "    }\n",
       "</style>\n",
       "<table border=\"1\" class=\"dataframe\">\n",
       "  <thead>\n",
       "    <tr style=\"text-align: right;\">\n",
       "      <th></th>\n",
       "      <th>0_x</th>\n",
       "      <th>0_y</th>\n",
       "    </tr>\n",
       "  </thead>\n",
       "  <tbody>\n",
       "    <tr>\n",
       "      <th>count</th>\n",
       "      <td>5001.000000</td>\n",
       "      <td>5001.000000</td>\n",
       "    </tr>\n",
       "    <tr>\n",
       "      <th>mean</th>\n",
       "      <td>15.560622</td>\n",
       "      <td>2.210698</td>\n",
       "    </tr>\n",
       "    <tr>\n",
       "      <th>std</th>\n",
       "      <td>33.309200</td>\n",
       "      <td>2.565571</td>\n",
       "    </tr>\n",
       "    <tr>\n",
       "      <th>min</th>\n",
       "      <td>0.002283</td>\n",
       "      <td>-98.000000</td>\n",
       "    </tr>\n",
       "    <tr>\n",
       "      <th>25%</th>\n",
       "      <td>1.725759</td>\n",
       "      <td>2.003141</td>\n",
       "    </tr>\n",
       "    <tr>\n",
       "      <th>50%</th>\n",
       "      <td>5.005108</td>\n",
       "      <td>2.449490</td>\n",
       "    </tr>\n",
       "    <tr>\n",
       "      <th>75%</th>\n",
       "      <td>12.289828</td>\n",
       "      <td>2.827959</td>\n",
       "    </tr>\n",
       "    <tr>\n",
       "      <th>max</th>\n",
       "      <td>329.684818</td>\n",
       "      <td>2.828427</td>\n",
       "    </tr>\n",
       "  </tbody>\n",
       "</table>\n",
       "</div>"
      ],
      "text/plain": [
       "               0_x          0_y\n",
       "count  5001.000000  5001.000000\n",
       "mean     15.560622     2.210698\n",
       "std      33.309200     2.565571\n",
       "min       0.002283   -98.000000\n",
       "25%       1.725759     2.003141\n",
       "50%       5.005108     2.449490\n",
       "75%      12.289828     2.827959\n",
       "max     329.684818     2.828427"
      ]
     },
     "execution_count": 60,
     "metadata": {},
     "output_type": "execute_result"
    }
   ],
   "source": [
    "tgt.describe()"
   ]
  },
  {
   "cell_type": "code",
   "execution_count": 69,
   "id": "9fb0fa62",
   "metadata": {},
   "outputs": [
    {
     "data": {
      "text/html": [
       "<div>\n",
       "<style scoped>\n",
       "    .dataframe tbody tr th:only-of-type {\n",
       "        vertical-align: middle;\n",
       "    }\n",
       "\n",
       "    .dataframe tbody tr th {\n",
       "        vertical-align: top;\n",
       "    }\n",
       "\n",
       "    .dataframe thead th {\n",
       "        text-align: right;\n",
       "    }\n",
       "</style>\n",
       "<table border=\"1\" class=\"dataframe\">\n",
       "  <thead>\n",
       "    <tr style=\"text-align: right;\">\n",
       "      <th></th>\n",
       "      <th>0_x</th>\n",
       "      <th>0_y</th>\n",
       "      <th>x_printable</th>\n",
       "      <th>y_printable</th>\n",
       "      <th>correct</th>\n",
       "    </tr>\n",
       "  </thead>\n",
       "  <tbody>\n",
       "    <tr>\n",
       "      <th>repaired_files/90103fe5-e00e-4276-94be-db2d406a28d3.stl</th>\n",
       "      <td>1.620562</td>\n",
       "      <td>2.529934</td>\n",
       "      <td>True</td>\n",
       "      <td>False</td>\n",
       "      <td>0</td>\n",
       "    </tr>\n",
       "    <tr>\n",
       "      <th>repaired_files/90103fe5-e00e-4276-94be-db2d406a28d3.stl-100.stl</th>\n",
       "      <td>1.176995</td>\n",
       "      <td>2.010105</td>\n",
       "      <td>True</td>\n",
       "      <td>True</td>\n",
       "      <td>1</td>\n",
       "    </tr>\n",
       "    <tr>\n",
       "      <th>repaired_files/90103fe5-e00e-4276-94be-db2d406a28d3.stl0-10.stl</th>\n",
       "      <td>2.307262</td>\n",
       "      <td>2.366312</td>\n",
       "      <td>True</td>\n",
       "      <td>True</td>\n",
       "      <td>1</td>\n",
       "    </tr>\n",
       "    <tr>\n",
       "      <th>repaired_files/90103fe5-e00e-4276-94be-db2d406a28d3.stl00-1.stl</th>\n",
       "      <td>1.709765</td>\n",
       "      <td>2.366312</td>\n",
       "      <td>True</td>\n",
       "      <td>True</td>\n",
       "      <td>1</td>\n",
       "    </tr>\n",
       "    <tr>\n",
       "      <th>repaired_files/90103fe5-e00e-4276-94be-db2d406a28d3.stl010.stl</th>\n",
       "      <td>2.307262</td>\n",
       "      <td>2.529934</td>\n",
       "      <td>True</td>\n",
       "      <td>False</td>\n",
       "      <td>0</td>\n",
       "    </tr>\n",
       "  </tbody>\n",
       "</table>\n",
       "</div>"
      ],
      "text/plain": [
       "                                                         0_x       0_y  \\\n",
       "repaired_files/90103fe5-e00e-4276-94be-db2d406a...  1.620562  2.529934   \n",
       "repaired_files/90103fe5-e00e-4276-94be-db2d406a...  1.176995  2.010105   \n",
       "repaired_files/90103fe5-e00e-4276-94be-db2d406a...  2.307262  2.366312   \n",
       "repaired_files/90103fe5-e00e-4276-94be-db2d406a...  1.709765  2.366312   \n",
       "repaired_files/90103fe5-e00e-4276-94be-db2d406a...  2.307262  2.529934   \n",
       "\n",
       "                                                    x_printable  y_printable  \\\n",
       "repaired_files/90103fe5-e00e-4276-94be-db2d406a...         True        False   \n",
       "repaired_files/90103fe5-e00e-4276-94be-db2d406a...         True         True   \n",
       "repaired_files/90103fe5-e00e-4276-94be-db2d406a...         True         True   \n",
       "repaired_files/90103fe5-e00e-4276-94be-db2d406a...         True         True   \n",
       "repaired_files/90103fe5-e00e-4276-94be-db2d406a...         True        False   \n",
       "\n",
       "                                                    correct  \n",
       "repaired_files/90103fe5-e00e-4276-94be-db2d406a...        0  \n",
       "repaired_files/90103fe5-e00e-4276-94be-db2d406a...        1  \n",
       "repaired_files/90103fe5-e00e-4276-94be-db2d406a...        1  \n",
       "repaired_files/90103fe5-e00e-4276-94be-db2d406a...        1  \n",
       "repaired_files/90103fe5-e00e-4276-94be-db2d406a...        0  "
      ]
     },
     "execution_count": 69,
     "metadata": {},
     "output_type": "execute_result"
    }
   ],
   "source": [
    "x_thresh = 5.0\n",
    "y_thresh = 2.449490\n",
    "tgt['x_printable'] = tgt['0_x'] < x_thresh \n",
    "tgt['y_printable'] = (tgt['0_y'] < y_thresh) & (tgt['0_y'] > 0)\n",
    "tgt['correct'] = (tgt['x_printable'] == tgt['y_printable']).astype('int')\n",
    "tgt.head()"
   ]
  },
  {
   "cell_type": "code",
   "execution_count": 70,
   "id": "cc0f474c-3d43-4658-9fb1-ecfe963f240d",
   "metadata": {},
   "outputs": [
    {
     "data": {
      "text/plain": [
       "0.5494901019796041"
      ]
     },
     "execution_count": 70,
     "metadata": {},
     "output_type": "execute_result"
    }
   ],
   "source": [
    "accuracy = sum(tgt['correct']) / tgt.shape[0]\n",
    "accuracy"
   ]
  },
  {
   "attachments": {},
   "cell_type": "markdown",
   "id": "836fb2f8-2973-4da2-97d0-25ef5443aeea",
   "metadata": {},
   "source": [
    "### regression accuracy"
   ]
  },
  {
   "attachments": {},
   "cell_type": "markdown",
   "id": "cd5f6c84-8513-4406-905d-92e6910a4f0f",
   "metadata": {},
   "source": [
    "#### raw score capped at 20"
   ]
  },
  {
   "cell_type": "code",
   "execution_count": 88,
   "id": "71c4cb32",
   "metadata": {},
   "outputs": [],
   "source": [
    "#cap at 20\n",
    "cap_20 = tgt[tgt['0_x'] <= 20]"
   ]
  },
  {
   "cell_type": "code",
   "execution_count": 158,
   "id": "0a80887f-6abc-4cc2-9e5f-1ae8984f6705",
   "metadata": {},
   "outputs": [
    {
     "data": {
      "text/html": [
       "<div>\n",
       "<style scoped>\n",
       "    .dataframe tbody tr th:only-of-type {\n",
       "        vertical-align: middle;\n",
       "    }\n",
       "\n",
       "    .dataframe tbody tr th {\n",
       "        vertical-align: top;\n",
       "    }\n",
       "\n",
       "    .dataframe thead th {\n",
       "        text-align: right;\n",
       "    }\n",
       "</style>\n",
       "<table border=\"1\" class=\"dataframe\">\n",
       "  <thead>\n",
       "    <tr style=\"text-align: right;\">\n",
       "      <th></th>\n",
       "      <th>0_x</th>\n",
       "      <th>0_y</th>\n",
       "      <th>scaled_y</th>\n",
       "    </tr>\n",
       "  </thead>\n",
       "  <tbody>\n",
       "    <tr>\n",
       "      <th>count</th>\n",
       "      <td>4122.000000</td>\n",
       "      <td>4122.000000</td>\n",
       "      <td>4122.000000</td>\n",
       "    </tr>\n",
       "    <tr>\n",
       "      <th>mean</th>\n",
       "      <td>4.641838</td>\n",
       "      <td>2.252739</td>\n",
       "      <td>15.897146</td>\n",
       "    </tr>\n",
       "    <tr>\n",
       "      <th>std</th>\n",
       "      <td>4.623372</td>\n",
       "      <td>0.764266</td>\n",
       "      <td>5.393276</td>\n",
       "    </tr>\n",
       "    <tr>\n",
       "      <th>min</th>\n",
       "      <td>0.002283</td>\n",
       "      <td>0.000000</td>\n",
       "      <td>0.000000</td>\n",
       "    </tr>\n",
       "    <tr>\n",
       "      <th>25%</th>\n",
       "      <td>1.482247</td>\n",
       "      <td>2.000000</td>\n",
       "      <td>14.113616</td>\n",
       "    </tr>\n",
       "    <tr>\n",
       "      <th>50%</th>\n",
       "      <td>2.388039</td>\n",
       "      <td>2.449490</td>\n",
       "      <td>17.285579</td>\n",
       "    </tr>\n",
       "    <tr>\n",
       "      <th>75%</th>\n",
       "      <td>6.685399</td>\n",
       "      <td>2.828169</td>\n",
       "      <td>19.957848</td>\n",
       "    </tr>\n",
       "    <tr>\n",
       "      <th>max</th>\n",
       "      <td>19.959667</td>\n",
       "      <td>2.828427</td>\n",
       "      <td>19.959667</td>\n",
       "    </tr>\n",
       "  </tbody>\n",
       "</table>\n",
       "</div>"
      ],
      "text/plain": [
       "               0_x          0_y     scaled_y\n",
       "count  4122.000000  4122.000000  4122.000000\n",
       "mean      4.641838     2.252739    15.897146\n",
       "std       4.623372     0.764266     5.393276\n",
       "min       0.002283     0.000000     0.000000\n",
       "25%       1.482247     2.000000    14.113616\n",
       "50%       2.388039     2.449490    17.285579\n",
       "75%       6.685399     2.828169    19.957848\n",
       "max      19.959667     2.828427    19.959667"
      ]
     },
     "execution_count": 158,
     "metadata": {},
     "output_type": "execute_result"
    }
   ],
   "source": [
    "# The code is written so that -98 is returned when compute_stable_pose returns two empty arrays, meaning that no stable pose is found. \n",
    "# Thus, we replace -98 with the most unprintable score.\n",
    "cap_20 = cap_20.replace(-98.0, max(cap_20['0_y']))\n",
    "cap_20.describe()"
   ]
  },
  {
   "cell_type": "code",
   "execution_count": 159,
   "id": "9b0e877f-185e-4fe6-8e17-6d9036628cb0",
   "metadata": {},
   "outputs": [
    {
     "data": {
      "text/html": [
       "<div>\n",
       "<style scoped>\n",
       "    .dataframe tbody tr th:only-of-type {\n",
       "        vertical-align: middle;\n",
       "    }\n",
       "\n",
       "    .dataframe tbody tr th {\n",
       "        vertical-align: top;\n",
       "    }\n",
       "\n",
       "    .dataframe thead th {\n",
       "        text-align: right;\n",
       "    }\n",
       "</style>\n",
       "<table border=\"1\" class=\"dataframe\">\n",
       "  <thead>\n",
       "    <tr style=\"text-align: right;\">\n",
       "      <th></th>\n",
       "      <th>0_x</th>\n",
       "      <th>0_y</th>\n",
       "      <th>scaled_y</th>\n",
       "    </tr>\n",
       "  </thead>\n",
       "  <tbody>\n",
       "    <tr>\n",
       "      <th>count</th>\n",
       "      <td>4122.000000</td>\n",
       "      <td>4122.000000</td>\n",
       "      <td>4122.000000</td>\n",
       "    </tr>\n",
       "    <tr>\n",
       "      <th>mean</th>\n",
       "      <td>4.641838</td>\n",
       "      <td>2.252739</td>\n",
       "      <td>15.897146</td>\n",
       "    </tr>\n",
       "    <tr>\n",
       "      <th>std</th>\n",
       "      <td>4.623372</td>\n",
       "      <td>0.764266</td>\n",
       "      <td>5.393276</td>\n",
       "    </tr>\n",
       "    <tr>\n",
       "      <th>min</th>\n",
       "      <td>0.002283</td>\n",
       "      <td>0.000000</td>\n",
       "      <td>0.000000</td>\n",
       "    </tr>\n",
       "    <tr>\n",
       "      <th>25%</th>\n",
       "      <td>1.482247</td>\n",
       "      <td>2.000000</td>\n",
       "      <td>14.113616</td>\n",
       "    </tr>\n",
       "    <tr>\n",
       "      <th>50%</th>\n",
       "      <td>2.388039</td>\n",
       "      <td>2.449490</td>\n",
       "      <td>17.285579</td>\n",
       "    </tr>\n",
       "    <tr>\n",
       "      <th>75%</th>\n",
       "      <td>6.685399</td>\n",
       "      <td>2.828169</td>\n",
       "      <td>19.957848</td>\n",
       "    </tr>\n",
       "    <tr>\n",
       "      <th>max</th>\n",
       "      <td>19.959667</td>\n",
       "      <td>2.828427</td>\n",
       "      <td>19.959667</td>\n",
       "    </tr>\n",
       "  </tbody>\n",
       "</table>\n",
       "</div>"
      ],
      "text/plain": [
       "               0_x          0_y     scaled_y\n",
       "count  4122.000000  4122.000000  4122.000000\n",
       "mean      4.641838     2.252739    15.897146\n",
       "std       4.623372     0.764266     5.393276\n",
       "min       0.002283     0.000000     0.000000\n",
       "25%       1.482247     2.000000    14.113616\n",
       "50%       2.388039     2.449490    17.285579\n",
       "75%       6.685399     2.828169    19.957848\n",
       "max      19.959667     2.828427    19.959667"
      ]
     },
     "execution_count": 159,
     "metadata": {},
     "output_type": "execute_result"
    }
   ],
   "source": [
    "cap_20['scaled_y'] = cap_20['0_y'] * max(cap_20['0_x']) / max(cap_20['0_y'])\n",
    "cap_20.describe()"
   ]
  },
  {
   "cell_type": "code",
   "execution_count": 146,
   "id": "8c7f1e70-4744-48ed-8a39-e5efd035672a",
   "metadata": {},
   "outputs": [
    {
     "data": {
      "text/plain": [
       "Text(0.5, 0, 'Score')"
      ]
     },
     "execution_count": 146,
     "metadata": {},
     "output_type": "execute_result"
    },
    {
     "data": {
      "image/png": "[encoded data removed]",
      "text/plain": [
       "<Figure size 432x288 with 1 Axes>"
      ]
     },
     "metadata": {
      "needs_background": "light"
     },
     "output_type": "display_data"
    }
   ],
   "source": [
    "plt.hist(data = cap_20, x = '0_x', bins = 20, label = 'True Score')\n",
    "plt.hist(data = cap_20, x = 'scaled_y', bins = 20, label = 'Scaled Predicted Score')\n",
    "plt.legend()\n",
    "plt.title('Distribution of True and Scaled Predicted Scores Capped at 20')\n",
    "plt.ylabel('Count')\n",
    "plt.xlabel('Score')"
   ]
  },
  {
   "cell_type": "code",
   "execution_count": 99,
   "id": "883cce7d-b256-44e0-83c1-c7196f33d2f0",
   "metadata": {},
   "outputs": [
    {
     "data": {
      "text/plain": [
       "11.756919665003904"
      ]
     },
     "execution_count": 99,
     "metadata": {},
     "output_type": "execute_result"
    }
   ],
   "source": [
    "scaled_l1 = (np.abs(np.subtract(cap_20['0_x'],cap_20['scaled_y']))).mean()\n",
    "scaled_l1"
   ]
  },
  {
   "attachments": {},
   "cell_type": "markdown",
   "id": "55944f16-2e9f-4645-b361-33f0d520954d",
   "metadata": {},
   "source": [
    "## Appendix: extra information\n",
    "#### Raw score scaled by log/6 (not capped)"
   ]
  },
  {
   "cell_type": "code",
   "execution_count": 147,
   "id": "6a6cc29e-8939-40de-96ba-98b55ab9bca8",
   "metadata": {},
   "outputs": [
    {
     "name": "stderr",
     "output_type": "stream",
     "text": [
      "/Users/yifansong/opt/anaconda3/lib/python3.9/site-packages/pandas/core/arraylike.py:397: RuntimeWarning: divide by zero encountered in log\n",
      "  result = getattr(ufunc, method)(*inputs, **kwargs)\n"
     ]
    }
   ],
   "source": [
    "log = tgt.copy()\n",
    "log = log.replace(-98.0, max(log['0_y']))\n",
    "log['log_actual'] = np.log((log['0_x']).astype(float))\n",
    "log['log_estimate'] = np.log((log['0_y']).astype(float))"
   ]
  },
  {
   "cell_type": "code",
   "execution_count": 148,
   "id": "81e910da-4a85-4100-b02e-4795969435b4",
   "metadata": {},
   "outputs": [
    {
     "data": {
      "text/html": [
       "<div>\n",
       "<style scoped>\n",
       "    .dataframe tbody tr th:only-of-type {\n",
       "        vertical-align: middle;\n",
       "    }\n",
       "\n",
       "    .dataframe tbody tr th {\n",
       "        vertical-align: top;\n",
       "    }\n",
       "\n",
       "    .dataframe thead th {\n",
       "        text-align: right;\n",
       "    }\n",
       "</style>\n",
       "<table border=\"1\" class=\"dataframe\">\n",
       "  <thead>\n",
       "    <tr style=\"text-align: right;\">\n",
       "      <th></th>\n",
       "      <th>0_x</th>\n",
       "      <th>0_y</th>\n",
       "      <th>log_actual</th>\n",
       "      <th>log_estimate</th>\n",
       "    </tr>\n",
       "  </thead>\n",
       "  <tbody>\n",
       "    <tr>\n",
       "      <th>repaired_files/90103fe5-e00e-4276-94be-db2d406a28d3.stl</th>\n",
       "      <td>1.620562</td>\n",
       "      <td>2.529934</td>\n",
       "      <td>0.482773</td>\n",
       "      <td>0.928193</td>\n",
       "    </tr>\n",
       "    <tr>\n",
       "      <th>repaired_files/90103fe5-e00e-4276-94be-db2d406a28d3.stl-100.stl</th>\n",
       "      <td>1.176995</td>\n",
       "      <td>2.010105</td>\n",
       "      <td>0.162965</td>\n",
       "      <td>0.698187</td>\n",
       "    </tr>\n",
       "    <tr>\n",
       "      <th>repaired_files/90103fe5-e00e-4276-94be-db2d406a28d3.stl0-10.stl</th>\n",
       "      <td>2.307262</td>\n",
       "      <td>2.366312</td>\n",
       "      <td>0.836061</td>\n",
       "      <td>0.861333</td>\n",
       "    </tr>\n",
       "    <tr>\n",
       "      <th>repaired_files/90103fe5-e00e-4276-94be-db2d406a28d3.stl00-1.stl</th>\n",
       "      <td>1.709765</td>\n",
       "      <td>2.366312</td>\n",
       "      <td>0.536356</td>\n",
       "      <td>0.861333</td>\n",
       "    </tr>\n",
       "    <tr>\n",
       "      <th>repaired_files/90103fe5-e00e-4276-94be-db2d406a28d3.stl010.stl</th>\n",
       "      <td>2.307262</td>\n",
       "      <td>2.529934</td>\n",
       "      <td>0.836061</td>\n",
       "      <td>0.928193</td>\n",
       "    </tr>\n",
       "  </tbody>\n",
       "</table>\n",
       "</div>"
      ],
      "text/plain": [
       "                                                         0_x       0_y  \\\n",
       "repaired_files/90103fe5-e00e-4276-94be-db2d406a...  1.620562  2.529934   \n",
       "repaired_files/90103fe5-e00e-4276-94be-db2d406a...  1.176995  2.010105   \n",
       "repaired_files/90103fe5-e00e-4276-94be-db2d406a...  2.307262  2.366312   \n",
       "repaired_files/90103fe5-e00e-4276-94be-db2d406a...  1.709765  2.366312   \n",
       "repaired_files/90103fe5-e00e-4276-94be-db2d406a...  2.307262  2.529934   \n",
       "\n",
       "                                                    log_actual  log_estimate  \n",
       "repaired_files/90103fe5-e00e-4276-94be-db2d406a...    0.482773      0.928193  \n",
       "repaired_files/90103fe5-e00e-4276-94be-db2d406a...    0.162965      0.698187  \n",
       "repaired_files/90103fe5-e00e-4276-94be-db2d406a...    0.836061      0.861333  \n",
       "repaired_files/90103fe5-e00e-4276-94be-db2d406a...    0.536356      0.861333  \n",
       "repaired_files/90103fe5-e00e-4276-94be-db2d406a...    0.836061      0.928193  "
      ]
     },
     "execution_count": 148,
     "metadata": {},
     "output_type": "execute_result"
    }
   ],
   "source": [
    "log.head()"
   ]
  },
  {
   "cell_type": "code",
   "execution_count": 149,
   "id": "cd1f35e6",
   "metadata": {},
   "outputs": [],
   "source": [
    "#Replace -infinity resulting from log(0) with the minimum of the non-infinity logs.\n",
    "without_inf = log[log['log_estimate'] != min(log['log_estimate'])]\n",
    "replace_0 = min(without_inf['log_estimate'])\n",
    "log = log.replace(min(log['log_estimate']), replace_0)"
   ]
  },
  {
   "cell_type": "code",
   "execution_count": 150,
   "id": "b7675ca7-fdbf-4ca5-bf78-3e4a9d32cccb",
   "metadata": {},
   "outputs": [
    {
     "data": {
      "text/html": [
       "<div>\n",
       "<style scoped>\n",
       "    .dataframe tbody tr th:only-of-type {\n",
       "        vertical-align: middle;\n",
       "    }\n",
       "\n",
       "    .dataframe tbody tr th {\n",
       "        vertical-align: top;\n",
       "    }\n",
       "\n",
       "    .dataframe thead th {\n",
       "        text-align: right;\n",
       "    }\n",
       "</style>\n",
       "<table border=\"1\" class=\"dataframe\">\n",
       "  <thead>\n",
       "    <tr style=\"text-align: right;\">\n",
       "      <th></th>\n",
       "      <th>0_x</th>\n",
       "      <th>0_y</th>\n",
       "      <th>log_actual</th>\n",
       "      <th>log_estimate</th>\n",
       "    </tr>\n",
       "  </thead>\n",
       "  <tbody>\n",
       "    <tr>\n",
       "      <th>count</th>\n",
       "      <td>5001.000000</td>\n",
       "      <td>5001.000000</td>\n",
       "      <td>5001.000000</td>\n",
       "      <td>5001.000000</td>\n",
       "    </tr>\n",
       "    <tr>\n",
       "      <th>mean</th>\n",
       "      <td>15.560622</td>\n",
       "      <td>2.271183</td>\n",
       "      <td>1.452016</td>\n",
       "      <td>-1.464708</td>\n",
       "    </tr>\n",
       "    <tr>\n",
       "      <th>std</th>\n",
       "      <td>33.309200</td>\n",
       "      <td>0.743917</td>\n",
       "      <td>1.721073</td>\n",
       "      <td>9.028851</td>\n",
       "    </tr>\n",
       "    <tr>\n",
       "      <th>min</th>\n",
       "      <td>0.002283</td>\n",
       "      <td>0.000000</td>\n",
       "      <td>-6.082266</td>\n",
       "      <td>-36.736801</td>\n",
       "    </tr>\n",
       "    <tr>\n",
       "      <th>25%</th>\n",
       "      <td>1.725759</td>\n",
       "      <td>2.004273</td>\n",
       "      <td>0.545667</td>\n",
       "      <td>0.695281</td>\n",
       "    </tr>\n",
       "    <tr>\n",
       "      <th>50%</th>\n",
       "      <td>5.005108</td>\n",
       "      <td>2.449490</td>\n",
       "      <td>1.610459</td>\n",
       "      <td>0.895880</td>\n",
       "    </tr>\n",
       "    <tr>\n",
       "      <th>75%</th>\n",
       "      <td>12.289828</td>\n",
       "      <td>2.827988</td>\n",
       "      <td>2.508772</td>\n",
       "      <td>1.039565</td>\n",
       "    </tr>\n",
       "    <tr>\n",
       "      <th>max</th>\n",
       "      <td>329.684818</td>\n",
       "      <td>2.828427</td>\n",
       "      <td>5.798137</td>\n",
       "      <td>1.039721</td>\n",
       "    </tr>\n",
       "  </tbody>\n",
       "</table>\n",
       "</div>"
      ],
      "text/plain": [
       "               0_x          0_y   log_actual  log_estimate\n",
       "count  5001.000000  5001.000000  5001.000000   5001.000000\n",
       "mean     15.560622     2.271183     1.452016     -1.464708\n",
       "std      33.309200     0.743917     1.721073      9.028851\n",
       "min       0.002283     0.000000    -6.082266    -36.736801\n",
       "25%       1.725759     2.004273     0.545667      0.695281\n",
       "50%       5.005108     2.449490     1.610459      0.895880\n",
       "75%      12.289828     2.827988     2.508772      1.039565\n",
       "max     329.684818     2.828427     5.798137      1.039721"
      ]
     },
     "execution_count": 150,
     "metadata": {},
     "output_type": "execute_result"
    }
   ],
   "source": [
    "log.describe()"
   ]
  },
  {
   "cell_type": "code",
   "execution_count": 154,
   "id": "ec5c7725",
   "metadata": {},
   "outputs": [],
   "source": [
    "# As we can see from the above graph, there are some outliers near -35 that need to be accounted for.\n",
    "# They will be replaced with the minimum value of the reasonable (non-outlying) scores. \n",
    "without_outlier =  log[log['log_estimate'] >= -10]\n",
    "replace_outlier = min(without_outlier['log_estimate'])\n",
    "to_replace = list(log[log['log_estimate'] <= -10]['log_estimate'])\n",
    "log = log.replace(to_replace, replace_outlier)"
   ]
  },
  {
   "cell_type": "code",
   "execution_count": 155,
   "id": "010ae83c-02d6-45f0-a3a6-1b7abf2ad692",
   "metadata": {},
   "outputs": [
    {
     "data": {
      "text/html": [
       "<div>\n",
       "<style scoped>\n",
       "    .dataframe tbody tr th:only-of-type {\n",
       "        vertical-align: middle;\n",
       "    }\n",
       "\n",
       "    .dataframe tbody tr th {\n",
       "        vertical-align: top;\n",
       "    }\n",
       "\n",
       "    .dataframe thead th {\n",
       "        text-align: right;\n",
       "    }\n",
       "</style>\n",
       "<table border=\"1\" class=\"dataframe\">\n",
       "  <thead>\n",
       "    <tr style=\"text-align: right;\">\n",
       "      <th></th>\n",
       "      <th>0_x</th>\n",
       "      <th>0_y</th>\n",
       "      <th>log_actual</th>\n",
       "      <th>log_estimate</th>\n",
       "    </tr>\n",
       "  </thead>\n",
       "  <tbody>\n",
       "    <tr>\n",
       "      <th>count</th>\n",
       "      <td>5001.000000</td>\n",
       "      <td>5001.000000</td>\n",
       "      <td>5001.000000</td>\n",
       "      <td>5001.000000</td>\n",
       "    </tr>\n",
       "    <tr>\n",
       "      <th>mean</th>\n",
       "      <td>15.560622</td>\n",
       "      <td>2.271183</td>\n",
       "      <td>1.452016</td>\n",
       "      <td>0.560920</td>\n",
       "    </tr>\n",
       "    <tr>\n",
       "      <th>std</th>\n",
       "      <td>33.309200</td>\n",
       "      <td>0.743917</td>\n",
       "      <td>1.721073</td>\n",
       "      <td>1.159692</td>\n",
       "    </tr>\n",
       "    <tr>\n",
       "      <th>min</th>\n",
       "      <td>0.002283</td>\n",
       "      <td>0.000000</td>\n",
       "      <td>-6.082266</td>\n",
       "      <td>-3.739509</td>\n",
       "    </tr>\n",
       "    <tr>\n",
       "      <th>25%</th>\n",
       "      <td>1.725759</td>\n",
       "      <td>2.004273</td>\n",
       "      <td>0.545667</td>\n",
       "      <td>0.695281</td>\n",
       "    </tr>\n",
       "    <tr>\n",
       "      <th>50%</th>\n",
       "      <td>5.005108</td>\n",
       "      <td>2.449490</td>\n",
       "      <td>1.610459</td>\n",
       "      <td>0.895880</td>\n",
       "    </tr>\n",
       "    <tr>\n",
       "      <th>75%</th>\n",
       "      <td>12.289828</td>\n",
       "      <td>2.827988</td>\n",
       "      <td>2.508772</td>\n",
       "      <td>1.039565</td>\n",
       "    </tr>\n",
       "    <tr>\n",
       "      <th>max</th>\n",
       "      <td>329.684818</td>\n",
       "      <td>2.828427</td>\n",
       "      <td>5.798137</td>\n",
       "      <td>1.039721</td>\n",
       "    </tr>\n",
       "  </tbody>\n",
       "</table>\n",
       "</div>"
      ],
      "text/plain": [
       "               0_x          0_y   log_actual  log_estimate\n",
       "count  5001.000000  5001.000000  5001.000000   5001.000000\n",
       "mean     15.560622     2.271183     1.452016      0.560920\n",
       "std      33.309200     0.743917     1.721073      1.159692\n",
       "min       0.002283     0.000000    -6.082266     -3.739509\n",
       "25%       1.725759     2.004273     0.545667      0.695281\n",
       "50%       5.005108     2.449490     1.610459      0.895880\n",
       "75%      12.289828     2.827988     2.508772      1.039565\n",
       "max     329.684818     2.828427     5.798137      1.039721"
      ]
     },
     "execution_count": 155,
     "metadata": {},
     "output_type": "execute_result"
    }
   ],
   "source": [
    "log.describe()"
   ]
  },
  {
   "cell_type": "code",
   "execution_count": 164,
   "id": "8642a93c-2268-44e8-b2e5-1d00c9126870",
   "metadata": {},
   "outputs": [
    {
     "data": {
      "text/html": [
       "<div>\n",
       "<style scoped>\n",
       "    .dataframe tbody tr th:only-of-type {\n",
       "        vertical-align: middle;\n",
       "    }\n",
       "\n",
       "    .dataframe tbody tr th {\n",
       "        vertical-align: top;\n",
       "    }\n",
       "\n",
       "    .dataframe thead th {\n",
       "        text-align: right;\n",
       "    }\n",
       "</style>\n",
       "<table border=\"1\" class=\"dataframe\">\n",
       "  <thead>\n",
       "    <tr style=\"text-align: right;\">\n",
       "      <th></th>\n",
       "      <th>0_x</th>\n",
       "      <th>0_y</th>\n",
       "      <th>log_actual</th>\n",
       "      <th>log_estimate</th>\n",
       "      <th>log_actual_scaled</th>\n",
       "      <th>log_estimate_scaled</th>\n",
       "    </tr>\n",
       "  </thead>\n",
       "  <tbody>\n",
       "    <tr>\n",
       "      <th>count</th>\n",
       "      <td>5001.000000</td>\n",
       "      <td>5001.000000</td>\n",
       "      <td>5001.000000</td>\n",
       "      <td>5001.000000</td>\n",
       "      <td>5001.000000</td>\n",
       "      <td>5001.000000</td>\n",
       "    </tr>\n",
       "    <tr>\n",
       "      <th>mean</th>\n",
       "      <td>15.560622</td>\n",
       "      <td>2.271183</td>\n",
       "      <td>1.452016</td>\n",
       "      <td>0.560920</td>\n",
       "      <td>0.242003</td>\n",
       "      <td>0.767986</td>\n",
       "    </tr>\n",
       "    <tr>\n",
       "      <th>std</th>\n",
       "      <td>33.309200</td>\n",
       "      <td>0.743917</td>\n",
       "      <td>1.721073</td>\n",
       "      <td>1.159692</td>\n",
       "      <td>0.286845</td>\n",
       "      <td>0.480468</td>\n",
       "    </tr>\n",
       "    <tr>\n",
       "      <th>min</th>\n",
       "      <td>0.002283</td>\n",
       "      <td>0.000000</td>\n",
       "      <td>-6.082266</td>\n",
       "      <td>-3.739509</td>\n",
       "      <td>-1.013711</td>\n",
       "      <td>-1.013711</td>\n",
       "    </tr>\n",
       "    <tr>\n",
       "      <th>25%</th>\n",
       "      <td>1.725759</td>\n",
       "      <td>2.004273</td>\n",
       "      <td>0.545667</td>\n",
       "      <td>0.695281</td>\n",
       "      <td>0.090945</td>\n",
       "      <td>0.823653</td>\n",
       "    </tr>\n",
       "    <tr>\n",
       "      <th>50%</th>\n",
       "      <td>5.005108</td>\n",
       "      <td>2.449490</td>\n",
       "      <td>1.610459</td>\n",
       "      <td>0.895880</td>\n",
       "      <td>0.268410</td>\n",
       "      <td>0.906762</td>\n",
       "    </tr>\n",
       "    <tr>\n",
       "      <th>75%</th>\n",
       "      <td>12.289828</td>\n",
       "      <td>2.827988</td>\n",
       "      <td>2.508772</td>\n",
       "      <td>1.039565</td>\n",
       "      <td>0.418129</td>\n",
       "      <td>0.966292</td>\n",
       "    </tr>\n",
       "    <tr>\n",
       "      <th>max</th>\n",
       "      <td>329.684818</td>\n",
       "      <td>2.828427</td>\n",
       "      <td>5.798137</td>\n",
       "      <td>1.039721</td>\n",
       "      <td>0.966356</td>\n",
       "      <td>0.966356</td>\n",
       "    </tr>\n",
       "  </tbody>\n",
       "</table>\n",
       "</div>"
      ],
      "text/plain": [
       "               0_x          0_y   log_actual  log_estimate  log_actual_scaled  \\\n",
       "count  5001.000000  5001.000000  5001.000000   5001.000000        5001.000000   \n",
       "mean     15.560622     2.271183     1.452016      0.560920           0.242003   \n",
       "std      33.309200     0.743917     1.721073      1.159692           0.286845   \n",
       "min       0.002283     0.000000    -6.082266     -3.739509          -1.013711   \n",
       "25%       1.725759     2.004273     0.545667      0.695281           0.090945   \n",
       "50%       5.005108     2.449490     1.610459      0.895880           0.268410   \n",
       "75%      12.289828     2.827988     2.508772      1.039565           0.418129   \n",
       "max     329.684818     2.828427     5.798137      1.039721           0.966356   \n",
       "\n",
       "       log_estimate_scaled  \n",
       "count          5001.000000  \n",
       "mean              0.767986  \n",
       "std               0.480468  \n",
       "min              -1.013711  \n",
       "25%               0.823653  \n",
       "50%               0.906762  \n",
       "75%               0.966292  \n",
       "max               0.966356  "
      ]
     },
     "execution_count": 164,
     "metadata": {},
     "output_type": "execute_result"
    }
   ],
   "source": [
    "log['log_actual_scaled'] = log['log_actual'] / 6\n",
    "# now 'log_actual_scaled' is roughly between 1 and -1, we shift and scale log_estimate so that it has the same range as 'log_actual_scaled'\n",
    "target_range = max(log['log_actual_scaled']) - min(log['log_actual_scaled'])\n",
    "curr_range = max(log['log_estimate']) - min(log['log_estimate'])\n",
    "factor = target_range / curr_range\n",
    "log['log_estimate_scaled'] = log['log_estimate'] * factor\n",
    "shift = max(log['log_actual_scaled']) - max(log['log_estimate_scaled'])\n",
    "log['log_estimate_scaled'] = log['log_estimate_scaled'] + shift\n",
    "log.describe()"
   ]
  },
  {
   "cell_type": "code",
   "execution_count": 165,
   "id": "7d7e7ec2-959f-42cb-8bf1-ec8c88e0dc42",
   "metadata": {},
   "outputs": [
    {
     "data": {
      "text/plain": [
       "Text(0.5, 0, 'Score')"
      ]
     },
     "execution_count": 165,
     "metadata": {},
     "output_type": "execute_result"
    },
    {
     "data": {
      "image/png": "[encoded data removed]",
      "text/plain": [
       "<Figure size 432x288 with 1 Axes>"
      ]
     },
     "metadata": {
      "needs_background": "light"
     },
     "output_type": "display_data"
    }
   ],
   "source": [
    "plt.hist(data = log, x = 'log_actual_scaled', bins = 20, label = 'log(True Score) / 6')\n",
    "plt.hist(data = log, x = 'log_estimate_scaled', bins = 20, label = 'Scaled Predicted Score')\n",
    "plt.legend()\n",
    "plt.title('Distribution of log(True Score)/6 and Scaled Predicted Score')\n",
    "plt.ylabel('Count')\n",
    "plt.xlabel('Score')"
   ]
  },
  {
   "cell_type": "code",
   "execution_count": 167,
   "id": "724c2c86-e6f9-40e3-a5aa-a821c19a2cc2",
   "metadata": {},
   "outputs": [
    {
     "data": {
      "text/plain": [
       "0.6569759406946142"
      ]
     },
     "execution_count": 167,
     "metadata": {},
     "output_type": "execute_result"
    }
   ],
   "source": [
    "scaled_l1_log = (np.abs(np.subtract(log['log_actual_scaled'],log['log_estimate_scaled']))).mean()\n",
    "scaled_l1_log"
   ]
  },
  {
   "attachments": {},
   "cell_type": "markdown",
   "id": "5e3f1702-1bb9-4e4c-bfd3-14d29171a63d",
   "metadata": {},
   "source": [
    "#### Reference Graphs"
   ]
  },
  {
   "cell_type": "code",
   "execution_count": 175,
   "id": "cee9c79a-4a25-49f6-bd41-5ecde45efd63",
   "metadata": {},
   "outputs": [
    {
     "data": {
      "image/png": "[encoded data removed]",
      "text/plain": [
       "<Figure size 432x288 with 1 Axes>"
      ]
     },
     "metadata": {
      "needs_background": "light"
     },
     "output_type": "display_data"
    }
   ],
   "source": [
    "plt.scatter(cap_20['0_x'], cap_20['scaled_y'], c='crimson')\n",
    "p1 = max(cap_20['0_x'])\n",
    "p2 = min(cap_20['0_x'])\n",
    "plt.plot([p1, p2], [p1, p2], 'b-')\n",
    "plt.xlabel('True Scores', fontsize=15)\n",
    "plt.ylabel('Scaled Predicted Scores', fontsize=15)\n",
    "plt.title('True Scores vs. Scaled Predicted Scores Capped at 20')\n",
    "plt.show()"
   ]
  },
  {
   "cell_type": "code",
   "execution_count": 176,
   "id": "df32cdd0-f901-4fdd-ae1b-83ed5a33db68",
   "metadata": {},
   "outputs": [
    {
     "data": {
      "image/png": "[encoded data removed]",
      "text/plain": [
       "<Figure size 432x288 with 1 Axes>"
      ]
     },
     "metadata": {
      "needs_background": "light"
     },
     "output_type": "display_data"
    }
   ],
   "source": [
    "plt.scatter(log['log_actual_scaled'], log['log_estimate_scaled'], c='crimson')\n",
    "p1 = max(log['log_estimate_scaled'])\n",
    "p2 = min(log['log_estimate_scaled'])\n",
    "plt.plot([p1, p2], [p1, p2], 'b-')\n",
    "plt.xlabel('log(True Scores)/6', fontsize=15)\n",
    "plt.ylabel('Scaled Log Predicted Scores', fontsize=15)\n",
    "plt.title('log(True Scores)/6 vs. Scaled Log Predicted Scores')\n",
    "plt.show()"
   ]
  },
  {
   "cell_type": "code",
   "execution_count": null,
   "id": "affa5762-8634-446e-99cc-aae4b5a41bb8",
   "metadata": {},
   "outputs": [],
   "source": []
  }
 ],
 "metadata": {
  "kernelspec": {
   "display_name": "Python 3 (ipykernel)",
   "language": "python",
   "name": "python3"
  },
  "language_info": {
   "codemirror_mode": {
    "name": "ipython",
    "version": 3
   },
   "file_extension": ".py",
   "mimetype": "text/x-python",
   "name": "python",
   "nbconvert_exporter": "python",
   "pygments_lexer": "ipython3",
   "version": "3.9.12"
  }
 },
 "nbformat": 4,
 "nbformat_minor": 5
}
