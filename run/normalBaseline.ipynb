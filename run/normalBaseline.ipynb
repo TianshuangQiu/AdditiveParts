{
 "cells": [
  {
   "attachments": {},
   "cell_type": "markdown",
   "metadata": {},
   "source": [
    "## This notebook walks through the Optimized Normals baseline\n"
   ]
  },
  {
   "cell_type": "code",
   "execution_count": 1,
   "metadata": {},
   "outputs": [],
   "source": [
    "import numpy as np\n",
    "import json\n",
    "import os\n",
    "from scipy.optimize import differential_evolution as DE\n",
    "\n",
    "BASE_DIR = None # Replace with actual value"
   ]
  },
  {
   "cell_type": "code",
   "execution_count": 2,
   "metadata": {},
   "outputs": [],
   "source": [
    "# Load Data\n",
    "with open(os.path.join(BASE_DIR, \"sanitized_dict.json\"), \"r\") as r:\n",
    "    d = json.load(r)\n",
    "\n",
    "arr = []\n",
    "for k in d.keys():\n",
    "    arr.append(float(d[k]))\n",
    "\n",
    "arr = np.array(arr)\n",
    "# Cap our Data at 20\n",
    "arr[arr >= 20] = 20\n",
    "\n",
    "def loss(x):\n",
    "    sample = np.random.normal(loc=x[0], scale=x[1], size=arr.shape[0])\n",
    "    return np.average(np.abs(sample - arr))"
   ]
  },
  {
   "cell_type": "code",
   "execution_count": 3,
   "metadata": {},
   "outputs": [
    {
     "name": "stdout",
     "output_type": "stream",
     "text": [
      "     fun: 5.716693443018347\n",
      " message: 'Optimization terminated successfully.'\n",
      "    nfev: 2866\n",
      "     nit: 13\n",
      " success: True\n",
      "       x: array([4.32129468, 0.55756471])\n"
     ]
    }
   ],
   "source": [
    "# Run our optimization function with proper bounds on mean and variance. We initialize with 0, 1\n",
    "out = DE(loss, bounds=[(-6, 6), (0, 100)], x0=[0, 1], popsize=100)\n",
    "print(out)"
   ]
  },
  {
   "cell_type": "code",
   "execution_count": null,
   "metadata": {},
   "outputs": [],
   "source": []
  }
 ],
 "metadata": {
  "kernelspec": {
   "display_name": "cs182",
   "language": "python",
   "name": "python3"
  },
  "language_info": {
   "codemirror_mode": {
    "name": "ipython",
    "version": 3
   },
   "file_extension": ".py",
   "mimetype": "text/x-python",
   "name": "python",
   "nbconvert_exporter": "python",
   "pygments_lexer": "ipython3",
   "version": "3.7.16 (default, Jan 17 2023, 22:20:44) \n[GCC 11.2.0]"
  },
  "orig_nbformat": 4,
  "vscode": {
   "interpreter": {
    "hash": "b696ae4a14c33a14f542860031552b2eeb930b72081623f460281debd09dff1e"
   }
  }
 },
 "nbformat": 4,
 "nbformat_minor": 2
}
